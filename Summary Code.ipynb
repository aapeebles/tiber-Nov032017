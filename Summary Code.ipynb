{
 "cells": [
  {
   "cell_type": "markdown",
   "metadata": {},
   "source": [
    "# **Lesson Three:**  Putting it together\n",
    "\n",
    "Rather than Alison walking you through what each section does, today we are pairing up and figuring out what each section does one section at a time. \n",
    "\n",
    "There will be some new concepts, but they are blended with some of the data manipulation tools we have already learned.\n",
    "\n",
    "80% of Data Science is data cleaning/munging/reorganizing. If we have have pre-written code that does that for us, we are ahead of the game.\n",
    "\n",
    "For each section, please add a markdown cell above and write what that section does. "
   ]
  },
  {
   "cell_type": "markdown",
   "metadata": {},
   "source": [
    "## Section 1"
   ]
  },
  {
   "cell_type": "code",
   "execution_count": 149,
   "metadata": {},
   "outputs": [],
   "source": [
    "import pandas as pd\n",
    "import math \n",
    "from IPython.display import display"
   ]
  },
  {
   "cell_type": "code",
   "execution_count": null,
   "metadata": {},
   "outputs": [],
   "source": [
    "url=\"https://opendata.arcgis.com/datasets/0e4b7d3a83b94a178b3d1f015db901ee_7.csv\"\n",
    "complaintsdc=pd.read_csv(url)"
   ]
  },
  {
   "cell_type": "code",
   "execution_count": null,
   "metadata": {},
   "outputs": [],
   "source": [
    "m= complaintsdc.select_dtypes(exclude=['object']).copy()\n",
    "m.dtypes"
   ]
  },
  {
   "cell_type": "markdown",
   "metadata": {},
   "source": [
    "## Section 2\n",
    "\n",
    "New Concept: [list](https://docs.python.org/2/library/functions.html#func-list)"
   ]
  },
  {
   "cell_type": "code",
   "execution_count": null,
   "metadata": {},
   "outputs": [],
   "source": [
    "copds=complaintsdc[['ZIPCODE', 'WARD','INSPECTORNAME']]\n",
    "\n",
    "namelist = list(copds.columns.values)\n"
   ]
  },
  {
   "cell_type": "markdown",
   "metadata": {},
   "source": [
    "## Section 3\n",
    "\n",
    "New Conepts: [loops](https://www.learnpython.org/en/Loops), [rstrip](https://www.tutorialspoint.com/python/string_rstrip.htm), [isnan](https://docs.python.org/2/library/math.html) and [functions](https://www.tutorialspoint.com/python3/python_functions.htm)."
   ]
  },
  {
   "cell_type": "code",
   "execution_count": null,
   "metadata": {},
   "outputs": [],
   "source": [
    "def transform_to_ord(namelist):\n",
    "    for item in namelist:\n",
    "        sname = item+\"_cat\"\n",
    "        complaintsdc[sname] = complaintsdc[item].apply(lambda x: 'NaN' if math.isnan(x) else str(int(x))).copy()\n",
    "        complaintsdc.drop(item, axis=1, inplace=True)\n",
    "    \n",
    "    complaintsdc.columns = complaintsdc.columns.str.rstrip(\"_cat\").copy()\n",
    "    return complaintsdc\n",
    "\n",
    "transform_to_ord(namelist)"
   ]
  },
  {
   "cell_type": "markdown",
   "metadata": {},
   "source": [
    "## Section 4\n",
    "\n",
    "New Concepts: [transpose](https://pandas.pydata.org/pandas-docs/stable/generated/pandas.DataFrame.transpose.html) and [endswith](https://www.tutorialspoint.com/python/string_endswith.htm)"
   ]
  },
  {
   "cell_type": "code",
   "execution_count": null,
   "metadata": {},
   "outputs": [],
   "source": [
    "suffix= \"ID\"\n",
    "colnames = complaintsdc.columns\n",
    "\n",
    "idvars = [x for x in colnames if x.endswith(suffix)]\n",
    "newlist = [x for x in colnames if not x.endswith(suffix)]\n",
    "\n",
    "numvar = complaintsdc[newlist].describe()\n",
    "\n",
    "numvar = numvar.transpose().copy()\n",
    "\n",
    "numvar.drop(\"count\",1, inplace= True)\n",
    "numvar.index.rename(\"variables\",inplace=True)"
   ]
  },
  {
   "cell_type": "markdown",
   "metadata": {},
   "source": [
    "## Section 5\n",
    "\n",
    "New Concepts: [pd.Series](http://pandas.pydata.org/pandas-docs/version/0.20.3/generated/pandas.Series.html) and [pd.DataFrame](https://pandas.pydata.org/pandas-docs/stable/generated/pandas.DataFrame.html)"
   ]
  },
  {
   "cell_type": "code",
   "execution_count": null,
   "metadata": {},
   "outputs": [],
   "source": [
    "z = complaintsdc.isnull().sum()\n",
    "w = complaintsdc.dtypes\n",
    "\n",
    "y = pd.Series(z, index=complaintsdc.columns)\n",
    "q = pd.Series(w,index=complaintsdc.columns )\n",
    "\n",
    "v = {'nulls':y, 'type':q}\n",
    "df = pd.DataFrame(v, index=complaintsdc.columns)\n",
    "df.index.rename(\"variables\",inplace=True)"
   ]
  },
  {
   "cell_type": "markdown",
   "metadata": {},
   "source": [
    "## Section 6"
   ]
  },
  {
   "cell_type": "code",
   "execution_count": null,
   "metadata": {},
   "outputs": [],
   "source": [
    "categorical = df[df.type == \"object\"].copy()\n",
    "categorical['varnames'] = categorical.index.copy()\n",
    "categorical['distinct values'] = categorical['varnames'].apply(lambda x: complaintsdc[x].nunique()).copy()\n",
    "categorical['most frequent value'] = categorical['varnames'].apply(lambda x: complaintsdc[x].value_counts().index[0]).copy()\n",
    "categorical = categorical.drop('varnames',1).drop('type',1)"
   ]
  },
  {
   "cell_type": "markdown",
   "metadata": {},
   "source": [
    "## Section 7\n",
    "\n",
    "New Concepts:  [join](https://pandas.pydata.org/pandas-docs/stable/generated/pandas.DataFrame.join.html) and [index.astype](https://pandas.pydata.org/pandas-docs/stable/generated/pandas.Index.astype.html)"
   ]
  },
  {
   "cell_type": "code",
   "execution_count": null,
   "metadata": {},
   "outputs": [],
   "source": [
    "numvar.index=numvar.index.astype(str)\n",
    "df.index=df.index.astype(str)\n",
    "\n",
    "num_table = numvar.join(df, how ='inner')"
   ]
  },
  {
   "cell_type": "markdown",
   "metadata": {},
   "source": [
    "## Section 8\n",
    "New Concept: [strings manipuation](https://docs.python.org/3/library/string.html)"
   ]
  },
  {
   "cell_type": "code",
   "execution_count": null,
   "metadata": {
    "scrolled": true
   },
   "outputs": [],
   "source": [
    "rows = str(len(complaintsdc.copy()))\n",
    "cols = str(len(complaintsdc.columns.copy()))\n",
    "           \n",
    "print('There are {} rows and {} columns in this dataset\\n'.format(rows, cols))\n",
    "\n",
    "print('The IDs and keys in this dataset are:\\n')\n",
    "\n",
    "print(idvars)\n",
    "\n",
    "s = '\\n The Categorical Variables for this data set are:\\n'    \n",
    "print(s)\n",
    "\n",
    "display(categorical)\n",
    "\n",
    "print('\\n The Numeric Variables for this data set are:\\n')\n",
    "\n",
    "display(num_table)\n"
   ]
  },
  {
   "cell_type": "markdown",
   "metadata": {},
   "source": [
    "### Follow up Questions:\n",
    "\n",
    "what does the \"/n\" do?\n",
    "\n",
    "what are the other \"join\" options?\n",
    "\n",
    "What happens if you remove one of the .copy() from above?\n",
    "\n",
    "If I wanted to make this whole process a function, where would you bracket it? What would be it's inputs?"
   ]
  },
  {
   "cell_type": "code",
   "execution_count": null,
   "metadata": {},
   "outputs": [],
   "source": []
  }
 ],
 "metadata": {
  "kernelspec": {
   "display_name": "Python 3",
   "language": "python",
   "name": "python3"
  },
  "language_info": {
   "codemirror_mode": {
    "name": "ipython",
    "version": 3
   },
   "file_extension": ".py",
   "mimetype": "text/x-python",
   "name": "python",
   "nbconvert_exporter": "python",
   "pygments_lexer": "ipython3",
   "version": "3.6.0"
  }
 },
 "nbformat": 4,
 "nbformat_minor": 2
}
